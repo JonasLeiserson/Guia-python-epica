{
 "cells": [
  {
   "cell_type": "code",
   "execution_count": 2,
   "id": "c186bf4f",
   "metadata": {},
   "outputs": [],
   "source": [
    "try:\n",
    "    import pandas as pd\n",
    "except ImportError:\n",
    "    print(\"Pandas not installed\")\n",
    "    %pip install pandas --user\n",
    "\n",
    "try:\n",
    "    import matplotlib.pyplot as plt\n",
    "except ImportError:\n",
    "    print(\"Matplotlib not installed\")\n",
    "    %pip install matplotlib --user\n",
    "\n",
    "import ssl\n",
    "\n",
    "ssl._create_default_https_context = ssl._create_unverified_context\n"
   ]
  },
  {
   "cell_type": "code",
   "execution_count": 3,
   "id": "09be8c26",
   "metadata": {},
   "outputs": [],
   "source": [
    "import pandas as pd\n",
    "import matplotlib.pyplot as plt\n"
   ]
  },
  {
   "cell_type": "code",
   "execution_count": 7,
   "id": "4a445e6c",
   "metadata": {},
   "outputs": [
    {
     "data": {
      "text/html": [
       "<div>\n",
       "<style scoped>\n",
       "    .dataframe tbody tr th:only-of-type {\n",
       "        vertical-align: middle;\n",
       "    }\n",
       "\n",
       "    .dataframe tbody tr th {\n",
       "        vertical-align: top;\n",
       "    }\n",
       "\n",
       "    .dataframe thead th {\n",
       "        text-align: right;\n",
       "    }\n",
       "</style>\n",
       "<table border=\"1\" class=\"dataframe\">\n",
       "  <thead>\n",
       "    <tr style=\"text-align: right;\">\n",
       "      <th></th>\n",
       "      <th>match_no</th>\n",
       "      <th>day_of_week</th>\n",
       "      <th>date</th>\n",
       "      <th>hour</th>\n",
       "      <th>venue</th>\n",
       "      <th>referee</th>\n",
       "      <th>group</th>\n",
       "      <th>1</th>\n",
       "      <th>2</th>\n",
       "      <th>attendance</th>\n",
       "      <th>...</th>\n",
       "      <th>1_panelties_scored</th>\n",
       "      <th>2_panelties_scored</th>\n",
       "      <th>1_goal_prevented</th>\n",
       "      <th>2_goal_prevented</th>\n",
       "      <th>1_own_goal</th>\n",
       "      <th>2_own_goal</th>\n",
       "      <th>1_forced_turnovers</th>\n",
       "      <th>2_forced_turnovers</th>\n",
       "      <th>1_defensive_pressure_applied</th>\n",
       "      <th>2_defensive_pressure_applied</th>\n",
       "    </tr>\n",
       "  </thead>\n",
       "  <tbody>\n",
       "    <tr>\n",
       "      <th>0</th>\n",
       "      <td>1</td>\n",
       "      <td>Sun</td>\n",
       "      <td>20-Nov-22</td>\n",
       "      <td>17:00</td>\n",
       "      <td>Al Bayt Stadium</td>\n",
       "      <td>Daniele Orsato</td>\n",
       "      <td>Group A</td>\n",
       "      <td>QATAR</td>\n",
       "      <td>ECUADOR</td>\n",
       "      <td>67372</td>\n",
       "      <td>...</td>\n",
       "      <td>0</td>\n",
       "      <td>1</td>\n",
       "      <td>6</td>\n",
       "      <td>5</td>\n",
       "      <td>0</td>\n",
       "      <td>0</td>\n",
       "      <td>52</td>\n",
       "      <td>72</td>\n",
       "      <td>256</td>\n",
       "      <td>279</td>\n",
       "    </tr>\n",
       "    <tr>\n",
       "      <th>1</th>\n",
       "      <td>2</td>\n",
       "      <td>Mon</td>\n",
       "      <td>21-Nov-22</td>\n",
       "      <td>14:00</td>\n",
       "      <td>Khalifa International Stadium</td>\n",
       "      <td>Raphael Claus</td>\n",
       "      <td>Group B</td>\n",
       "      <td>ENGLAND</td>\n",
       "      <td>IRAN</td>\n",
       "      <td>45334</td>\n",
       "      <td>...</td>\n",
       "      <td>0</td>\n",
       "      <td>1</td>\n",
       "      <td>8</td>\n",
       "      <td>13</td>\n",
       "      <td>0</td>\n",
       "      <td>0</td>\n",
       "      <td>63</td>\n",
       "      <td>72</td>\n",
       "      <td>139</td>\n",
       "      <td>416</td>\n",
       "    </tr>\n",
       "    <tr>\n",
       "      <th>2</th>\n",
       "      <td>3</td>\n",
       "      <td>Mon</td>\n",
       "      <td>21-Nov-22</td>\n",
       "      <td>17:00</td>\n",
       "      <td>Al Thumama Stadium</td>\n",
       "      <td>Wilton Sampaio</td>\n",
       "      <td>Group A</td>\n",
       "      <td>SENEGAL</td>\n",
       "      <td>NETHERLANDS</td>\n",
       "      <td>41721</td>\n",
       "      <td>...</td>\n",
       "      <td>0</td>\n",
       "      <td>0</td>\n",
       "      <td>9</td>\n",
       "      <td>15</td>\n",
       "      <td>0</td>\n",
       "      <td>0</td>\n",
       "      <td>63</td>\n",
       "      <td>73</td>\n",
       "      <td>263</td>\n",
       "      <td>251</td>\n",
       "    </tr>\n",
       "    <tr>\n",
       "      <th>3</th>\n",
       "      <td>4</td>\n",
       "      <td>Mon</td>\n",
       "      <td>21-Nov-22</td>\n",
       "      <td>20:00</td>\n",
       "      <td>Ahmed bin Ali Stadium</td>\n",
       "      <td>Abdulrahman Ibrahim Al Jassim</td>\n",
       "      <td>Group B</td>\n",
       "      <td>UNITED STATES</td>\n",
       "      <td>WALES</td>\n",
       "      <td>43418</td>\n",
       "      <td>...</td>\n",
       "      <td>0</td>\n",
       "      <td>1</td>\n",
       "      <td>7</td>\n",
       "      <td>7</td>\n",
       "      <td>0</td>\n",
       "      <td>0</td>\n",
       "      <td>81</td>\n",
       "      <td>72</td>\n",
       "      <td>242</td>\n",
       "      <td>292</td>\n",
       "    </tr>\n",
       "    <tr>\n",
       "      <th>4</th>\n",
       "      <td>5</td>\n",
       "      <td>Tue</td>\n",
       "      <td>22-Nov-22</td>\n",
       "      <td>11:00</td>\n",
       "      <td>Lusail Iconic Stadium</td>\n",
       "      <td>Slavko Vincic</td>\n",
       "      <td>Group C</td>\n",
       "      <td>ARGENTINA</td>\n",
       "      <td>SAUDI ARABIA</td>\n",
       "      <td>88012</td>\n",
       "      <td>...</td>\n",
       "      <td>1</td>\n",
       "      <td>0</td>\n",
       "      <td>4</td>\n",
       "      <td>14</td>\n",
       "      <td>0</td>\n",
       "      <td>0</td>\n",
       "      <td>65</td>\n",
       "      <td>80</td>\n",
       "      <td>163</td>\n",
       "      <td>361</td>\n",
       "    </tr>\n",
       "    <tr>\n",
       "      <th>...</th>\n",
       "      <td>...</td>\n",
       "      <td>...</td>\n",
       "      <td>...</td>\n",
       "      <td>...</td>\n",
       "      <td>...</td>\n",
       "      <td>...</td>\n",
       "      <td>...</td>\n",
       "      <td>...</td>\n",
       "      <td>...</td>\n",
       "      <td>...</td>\n",
       "      <td>...</td>\n",
       "      <td>...</td>\n",
       "      <td>...</td>\n",
       "      <td>...</td>\n",
       "      <td>...</td>\n",
       "      <td>...</td>\n",
       "      <td>...</td>\n",
       "      <td>...</td>\n",
       "      <td>...</td>\n",
       "      <td>...</td>\n",
       "      <td>...</td>\n",
       "    </tr>\n",
       "    <tr>\n",
       "      <th>59</th>\n",
       "      <td>60</td>\n",
       "      <td>Sat</td>\n",
       "      <td>10-Dec-22</td>\n",
       "      <td>20:00</td>\n",
       "      <td>Al Bayt Stadium</td>\n",
       "      <td>Wilton Sampaio</td>\n",
       "      <td>Quarter-final</td>\n",
       "      <td>ENGLAND</td>\n",
       "      <td>FRANCE</td>\n",
       "      <td>68895</td>\n",
       "      <td>...</td>\n",
       "      <td>1</td>\n",
       "      <td>0</td>\n",
       "      <td>9</td>\n",
       "      <td>15</td>\n",
       "      <td>0</td>\n",
       "      <td>0</td>\n",
       "      <td>49</td>\n",
       "      <td>54</td>\n",
       "      <td>193</td>\n",
       "      <td>308</td>\n",
       "    </tr>\n",
       "    <tr>\n",
       "      <th>60</th>\n",
       "      <td>61</td>\n",
       "      <td>Tue</td>\n",
       "      <td>13-Dec-22</td>\n",
       "      <td>20:00</td>\n",
       "      <td>Lusail Iconic Stadium</td>\n",
       "      <td>Daniele Orsato</td>\n",
       "      <td>Semi-Final</td>\n",
       "      <td>ARGENTINA</td>\n",
       "      <td>CROATIA</td>\n",
       "      <td>88966</td>\n",
       "      <td>...</td>\n",
       "      <td>1</td>\n",
       "      <td>0</td>\n",
       "      <td>12</td>\n",
       "      <td>10</td>\n",
       "      <td>0</td>\n",
       "      <td>0</td>\n",
       "      <td>85</td>\n",
       "      <td>63</td>\n",
       "      <td>321</td>\n",
       "      <td>260</td>\n",
       "    </tr>\n",
       "    <tr>\n",
       "      <th>61</th>\n",
       "      <td>62</td>\n",
       "      <td>Wed</td>\n",
       "      <td>14-Dec-22</td>\n",
       "      <td>20:00</td>\n",
       "      <td>Al Bayt Stadium</td>\n",
       "      <td>Cesar Ramos</td>\n",
       "      <td>Semi-Final</td>\n",
       "      <td>FRANCE</td>\n",
       "      <td>MOROCCO</td>\n",
       "      <td>68294</td>\n",
       "      <td>...</td>\n",
       "      <td>0</td>\n",
       "      <td>0</td>\n",
       "      <td>13</td>\n",
       "      <td>14</td>\n",
       "      <td>0</td>\n",
       "      <td>0</td>\n",
       "      <td>72</td>\n",
       "      <td>47</td>\n",
       "      <td>328</td>\n",
       "      <td>218</td>\n",
       "    </tr>\n",
       "    <tr>\n",
       "      <th>62</th>\n",
       "      <td>63</td>\n",
       "      <td>Sat</td>\n",
       "      <td>17-Dec-22</td>\n",
       "      <td>16:00</td>\n",
       "      <td>Khalifa International Stadium</td>\n",
       "      <td>Abdulrahman Ibrahim Al Jassim</td>\n",
       "      <td>Play-off for third place</td>\n",
       "      <td>CROATIA</td>\n",
       "      <td>MOROCCO</td>\n",
       "      <td>44137</td>\n",
       "      <td>...</td>\n",
       "      <td>0</td>\n",
       "      <td>0</td>\n",
       "      <td>7</td>\n",
       "      <td>14</td>\n",
       "      <td>0</td>\n",
       "      <td>0</td>\n",
       "      <td>75</td>\n",
       "      <td>72</td>\n",
       "      <td>288</td>\n",
       "      <td>277</td>\n",
       "    </tr>\n",
       "    <tr>\n",
       "      <th>63</th>\n",
       "      <td>64</td>\n",
       "      <td>Sun</td>\n",
       "      <td>18-Dec-22</td>\n",
       "      <td>16:00</td>\n",
       "      <td>Lusail Iconic Stadium</td>\n",
       "      <td>Szymon Marciniak</td>\n",
       "      <td>Final</td>\n",
       "      <td>ARGENTINA</td>\n",
       "      <td>FRANCE</td>\n",
       "      <td>88966</td>\n",
       "      <td>...</td>\n",
       "      <td>1</td>\n",
       "      <td>2</td>\n",
       "      <td>11</td>\n",
       "      <td>21</td>\n",
       "      <td>0</td>\n",
       "      <td>0</td>\n",
       "      <td>87</td>\n",
       "      <td>104</td>\n",
       "      <td>280</td>\n",
       "      <td>409</td>\n",
       "    </tr>\n",
       "  </tbody>\n",
       "</table>\n",
       "<p>64 rows × 59 columns</p>\n",
       "</div>"
      ],
      "text/plain": [
       "    match_no day_of_week       date   hour                          venue  \\\n",
       "0          1         Sun  20-Nov-22  17:00                Al Bayt Stadium   \n",
       "1          2         Mon  21-Nov-22  14:00  Khalifa International Stadium   \n",
       "2          3         Mon  21-Nov-22  17:00             Al Thumama Stadium   \n",
       "3          4         Mon  21-Nov-22  20:00          Ahmed bin Ali Stadium   \n",
       "4          5         Tue  22-Nov-22  11:00          Lusail Iconic Stadium   \n",
       "..       ...         ...        ...    ...                            ...   \n",
       "59        60         Sat  10-Dec-22  20:00                Al Bayt Stadium   \n",
       "60        61         Tue  13-Dec-22  20:00          Lusail Iconic Stadium   \n",
       "61        62         Wed  14-Dec-22  20:00                Al Bayt Stadium   \n",
       "62        63         Sat  17-Dec-22  16:00  Khalifa International Stadium   \n",
       "63        64         Sun  18-Dec-22  16:00          Lusail Iconic Stadium   \n",
       "\n",
       "                          referee                     group              1  \\\n",
       "0                  Daniele Orsato                   Group A          QATAR   \n",
       "1                   Raphael Claus                   Group B        ENGLAND   \n",
       "2                  Wilton Sampaio                   Group A        SENEGAL   \n",
       "3   Abdulrahman Ibrahim Al Jassim                   Group B  UNITED STATES   \n",
       "4                   Slavko Vincic                   Group C      ARGENTINA   \n",
       "..                            ...                       ...            ...   \n",
       "59                 Wilton Sampaio             Quarter-final        ENGLAND   \n",
       "60                 Daniele Orsato                Semi-Final      ARGENTINA   \n",
       "61                    Cesar Ramos                Semi-Final         FRANCE   \n",
       "62  Abdulrahman Ibrahim Al Jassim  Play-off for third place        CROATIA   \n",
       "63               Szymon Marciniak                     Final      ARGENTINA   \n",
       "\n",
       "               2  attendance  ...  1_panelties_scored  2_panelties_scored  \\\n",
       "0        ECUADOR       67372  ...                   0                   1   \n",
       "1           IRAN       45334  ...                   0                   1   \n",
       "2    NETHERLANDS       41721  ...                   0                   0   \n",
       "3          WALES       43418  ...                   0                   1   \n",
       "4   SAUDI ARABIA       88012  ...                   1                   0   \n",
       "..           ...         ...  ...                 ...                 ...   \n",
       "59        FRANCE       68895  ...                   1                   0   \n",
       "60       CROATIA       88966  ...                   1                   0   \n",
       "61       MOROCCO       68294  ...                   0                   0   \n",
       "62       MOROCCO       44137  ...                   0                   0   \n",
       "63        FRANCE       88966  ...                   1                   2   \n",
       "\n",
       "    1_goal_prevented  2_goal_prevented  1_own_goal  2_own_goal  \\\n",
       "0                  6                 5           0           0   \n",
       "1                  8                13           0           0   \n",
       "2                  9                15           0           0   \n",
       "3                  7                 7           0           0   \n",
       "4                  4                14           0           0   \n",
       "..               ...               ...         ...         ...   \n",
       "59                 9                15           0           0   \n",
       "60                12                10           0           0   \n",
       "61                13                14           0           0   \n",
       "62                 7                14           0           0   \n",
       "63                11                21           0           0   \n",
       "\n",
       "   1_forced_turnovers  2_forced_turnovers  1_defensive_pressure_applied  \\\n",
       "0                  52                  72                           256   \n",
       "1                  63                  72                           139   \n",
       "2                  63                  73                           263   \n",
       "3                  81                  72                           242   \n",
       "4                  65                  80                           163   \n",
       "..                ...                 ...                           ...   \n",
       "59                 49                  54                           193   \n",
       "60                 85                  63                           321   \n",
       "61                 72                  47                           328   \n",
       "62                 75                  72                           288   \n",
       "63                 87                 104                           280   \n",
       "\n",
       "    2_defensive_pressure_applied  \n",
       "0                            279  \n",
       "1                            416  \n",
       "2                            251  \n",
       "3                            292  \n",
       "4                            361  \n",
       "..                           ...  \n",
       "59                           308  \n",
       "60                           260  \n",
       "61                           218  \n",
       "62                           277  \n",
       "63                           409  \n",
       "\n",
       "[64 rows x 59 columns]"
      ]
     },
     "execution_count": 7,
     "metadata": {},
     "output_type": "execute_result"
    }
   ],
   "source": [
    "archivo = \"https://raw.githubusercontent.com/IgnacioPardo/Tecnologias_Exponenciales_2025/refs/heads/main/qatar.csv\"\n",
    "\n",
    "# Leer datos del archivo\n",
    "mundial : pd.DataFrame = pd.read_csv(archivo)\n",
    "mundial\n"
   ]
  },
  {
   "cell_type": "code",
   "execution_count": 9,
   "id": "dc2f60df",
   "metadata": {},
   "outputs": [
    {
     "data": {
      "text/plain": [
       "64"
      ]
     },
     "execution_count": 9,
     "metadata": {},
     "output_type": "execute_result"
    }
   ],
   "source": [
    "#Cuantos Partidos Jugados\n",
    "Partidos = mundial['match_no']\n",
    "len(Partidos)"
   ]
  },
  {
   "cell_type": "code",
   "execution_count": 12,
   "id": "6cb112a2",
   "metadata": {},
   "outputs": [
    {
     "data": {
      "text/plain": [
       "array(['QATAR', 'ENGLAND', 'SENEGAL', 'UNITED STATES', 'ARGENTINA',\n",
       "       'DENMARK', 'MEXICO', 'FRANCE', 'MOROCCO', 'GERMANY', 'SPAIN',\n",
       "       'BELGIUM', 'SWITZERLAND', 'URUGUAY', 'PORTUGAL', 'BRAZIL', 'WALES',\n",
       "       'NETHERLANDS', 'TUNISIA', 'POLAND', 'JAPAN', 'CROATIA', 'CAMEROON',\n",
       "       'KOREA REPUBLIC', 'ECUADOR', 'IRAN', 'AUSTRALIA', 'SAUDI ARABIA',\n",
       "       'CANADA', 'COSTA RICA', 'GHANA', 'SERBIA'], dtype=object)"
      ]
     },
     "execution_count": 12,
     "metadata": {},
     "output_type": "execute_result"
    }
   ],
   "source": [
    "#Selecciones que participaron\n",
    "Selecciones = pd.concat([mundial[\"1\"], mundial[\"2\"]])\n",
    "Selecciones = Selecciones.unique()\n",
    "Selecciones"
   ]
  },
  {
   "cell_type": "code",
   "execution_count": 72,
   "id": "8991fbe6",
   "metadata": {},
   "outputs": [
    {
     "data": {
      "text/plain": [
       "6"
      ]
     },
     "execution_count": 72,
     "metadata": {},
     "output_type": "execute_result"
    }
   ],
   "source": [
    "#Cuantas fases \n",
    "Fases = mundial[\"group\"].unique()\n",
    "FasesTotales = set()\n",
    "for fase in Fases:\n",
    "    if fase.startswith(\"Group\"):\n",
    "        FasesTotales.add(\"FaseDeGrupos\")\n",
    "    else:\n",
    "        FasesTotales.add(fase)\n",
    "len(FasesTotales)"
   ]
  },
  {
   "cell_type": "code",
   "execution_count": 50,
   "id": "b14f03f4",
   "metadata": {},
   "outputs": [
    {
     "data": {
      "text/plain": [
       "53191.4375"
      ]
     },
     "execution_count": 50,
     "metadata": {},
     "output_type": "execute_result"
    }
   ],
   "source": [
    "#attendance promedio por partido\n",
    "Attendance = int(mundial[\"attendance\"].sum()) / len(Partidos)\n",
    "Attendance"
   ]
  },
  {
   "cell_type": "code",
   "execution_count": null,
   "id": "40f2f676",
   "metadata": {},
   "outputs": [
    {
     "data": {
      "text/plain": [
       "10"
      ]
     },
     "execution_count": 27,
     "metadata": {},
     "output_type": "execute_result"
    }
   ],
   "source": [
    "#Partido con mas diferencia de goles\n",
    "goles = abs(mundial[\"1_goals\"] - mundial[\"2_goals\"])\n",
    "Golesmaximos = goles.idxmax()\n",
    "Partido = mundial.loc[Golesmaximos]\n",
    "print(Partido[\"1\"] + \" contra \"  + Partido[\"2\"])"
   ]
  },
  {
   "cell_type": "code",
   "execution_count": null,
   "id": "82d490d6",
   "metadata": {},
   "outputs": [],
   "source": [
    "#Seleccion con mas penales metidos\n",
    "SeleccionConMasPenales = {}\n",
    "for selecciones in Selecciones:\n",
    "    penalesTotales = 0\n",
    "    for i in range(2):\n",
    "        columna_equipo = str(i + 1)\n",
    "        columna_penales = columna_equipo + \"_panelties_scored\"\n",
    "        partidos = mundial[mundial[columna_equipo] == selecciones]\n",
    "        penalesTotales += int(partidos[columna_penales].sum())\n",
    "        \n",
    "    SeleccionConMasPenales[selecciones] = penalesTotales\n",
    "print(max(SeleccionConMasPenales, key=SeleccionConMasPenales.get))\n"
   ]
  },
  {
   "cell_type": "code",
   "execution_count": 148,
   "id": "0a31840c",
   "metadata": {},
   "outputs": [
    {
     "name": "stdout",
     "output_type": "stream",
     "text": [
      "FRANCE\n"
     ]
    }
   ],
   "source": [
    "#Seleccion que mas penales le hicieron\n",
    "SeleccionConMasPenalesComidos = {}\n",
    "for selecciones in Selecciones:\n",
    "    PenalesRecibidos = 0\n",
    "    for i in range(2):\n",
    "        columna_equipo = str(i + 1)\n",
    "        equipo_rival = \"1\" if columna_equipo == \"2\" else \"2\"\n",
    "        columna_penales = equipo_rival + \"_panelties_scored\"\n",
    "\n",
    "        partidos = mundial[mundial[columna_equipo] == selecciones]\n",
    "        PenalesRecibidos += int(partidos[columna_penales].sum())\n",
    "           \n",
    "    SeleccionConMasPenalesComidos[selecciones] = PenalesRecibidos\n",
    "print(max(SeleccionConMasPenalesComidos, key=SeleccionConMasPenalesComidos.get))"
   ]
  },
  {
   "cell_type": "code",
   "execution_count": 21,
   "id": "423620b3",
   "metadata": {},
   "outputs": [],
   "source": [
    "equipo : str = \"ARGENTINA\""
   ]
  },
  {
   "cell_type": "code",
   "execution_count": null,
   "id": "dbc696e3",
   "metadata": {},
   "outputs": [],
   "source": [
    "# Seleccionar todos los partidos que jugo el equipo de \"local\"\n",
    "# Completar\n",
    "\n",
    "filtroLocal : pd.Series = mundial[mundial[\"1\"] == equipo]\n",
    "filtroLocal"
   ]
  },
  {
   "cell_type": "code",
   "execution_count": 82,
   "id": "6680bef3",
   "metadata": {},
   "outputs": [
    {
     "data": {
      "text/html": [
       "<div>\n",
       "<style scoped>\n",
       "    .dataframe tbody tr th:only-of-type {\n",
       "        vertical-align: middle;\n",
       "    }\n",
       "\n",
       "    .dataframe tbody tr th {\n",
       "        vertical-align: top;\n",
       "    }\n",
       "\n",
       "    .dataframe thead th {\n",
       "        text-align: right;\n",
       "    }\n",
       "</style>\n",
       "<table border=\"1\" class=\"dataframe\">\n",
       "  <thead>\n",
       "    <tr style=\"text-align: right;\">\n",
       "      <th></th>\n",
       "      <th>match_no</th>\n",
       "      <th>day_of_week</th>\n",
       "      <th>date</th>\n",
       "      <th>hour</th>\n",
       "      <th>venue</th>\n",
       "      <th>referee</th>\n",
       "      <th>group</th>\n",
       "      <th>1</th>\n",
       "      <th>2</th>\n",
       "      <th>attendance</th>\n",
       "      <th>...</th>\n",
       "      <th>1_panelties_scored</th>\n",
       "      <th>2_panelties_scored</th>\n",
       "      <th>1_goal_prevented</th>\n",
       "      <th>2_goal_prevented</th>\n",
       "      <th>1_own_goal</th>\n",
       "      <th>2_own_goal</th>\n",
       "      <th>1_forced_turnovers</th>\n",
       "      <th>2_forced_turnovers</th>\n",
       "      <th>1_defensive_pressure_applied</th>\n",
       "      <th>2_defensive_pressure_applied</th>\n",
       "    </tr>\n",
       "  </thead>\n",
       "  <tbody>\n",
       "    <tr>\n",
       "      <th>38</th>\n",
       "      <td>39</td>\n",
       "      <td>Wed</td>\n",
       "      <td>30-Nov-22</td>\n",
       "      <td>20:00</td>\n",
       "      <td>Lusail Iconic Stadium</td>\n",
       "      <td>Michael Oliver</td>\n",
       "      <td>Group C</td>\n",
       "      <td>POLAND</td>\n",
       "      <td>ARGENTINA</td>\n",
       "      <td>84985</td>\n",
       "      <td>...</td>\n",
       "      <td>0</td>\n",
       "      <td>0</td>\n",
       "      <td>25</td>\n",
       "      <td>4</td>\n",
       "      <td>0</td>\n",
       "      <td>0</td>\n",
       "      <td>67</td>\n",
       "      <td>48</td>\n",
       "      <td>438</td>\n",
       "      <td>141</td>\n",
       "    </tr>\n",
       "    <tr>\n",
       "      <th>57</th>\n",
       "      <td>58</td>\n",
       "      <td>Fri</td>\n",
       "      <td>9-Dec-22</td>\n",
       "      <td>20:00</td>\n",
       "      <td>Lusail Iconic Stadium</td>\n",
       "      <td>Antonio Mateu Lahoz</td>\n",
       "      <td>Quarter-final</td>\n",
       "      <td>NETHERLANDS</td>\n",
       "      <td>ARGENTINA</td>\n",
       "      <td>88235</td>\n",
       "      <td>...</td>\n",
       "      <td>0</td>\n",
       "      <td>1</td>\n",
       "      <td>15</td>\n",
       "      <td>5</td>\n",
       "      <td>0</td>\n",
       "      <td>0</td>\n",
       "      <td>91</td>\n",
       "      <td>79</td>\n",
       "      <td>401</td>\n",
       "      <td>323</td>\n",
       "    </tr>\n",
       "  </tbody>\n",
       "</table>\n",
       "<p>2 rows × 59 columns</p>\n",
       "</div>"
      ],
      "text/plain": [
       "    match_no day_of_week       date   hour                  venue  \\\n",
       "38        39         Wed  30-Nov-22  20:00  Lusail Iconic Stadium   \n",
       "57        58         Fri   9-Dec-22  20:00  Lusail Iconic Stadium   \n",
       "\n",
       "                referee          group            1          2  attendance  \\\n",
       "38       Michael Oliver        Group C       POLAND  ARGENTINA       84985   \n",
       "57  Antonio Mateu Lahoz  Quarter-final  NETHERLANDS  ARGENTINA       88235   \n",
       "\n",
       "    ...  1_panelties_scored  2_panelties_scored  1_goal_prevented  \\\n",
       "38  ...                   0                   0                25   \n",
       "57  ...                   0                   1                15   \n",
       "\n",
       "    2_goal_prevented  1_own_goal  2_own_goal 1_forced_turnovers  \\\n",
       "38                 4           0           0                 67   \n",
       "57                 5           0           0                 91   \n",
       "\n",
       "    2_forced_turnovers  1_defensive_pressure_applied  \\\n",
       "38                  48                           438   \n",
       "57                  79                           401   \n",
       "\n",
       "    2_defensive_pressure_applied  \n",
       "38                           141  \n",
       "57                           323  \n",
       "\n",
       "[2 rows x 59 columns]"
      ]
     },
     "execution_count": 82,
     "metadata": {},
     "output_type": "execute_result"
    }
   ],
   "source": [
    "# Seleccionar todos los partidos que jugo el equipo de \"visitante\"\n",
    "# Completar\n",
    "\n",
    "filtroVisitante : pd.Series = mundial[mundial[\"2\"] == equipo]\n",
    "filtroVisitante"
   ]
  },
  {
   "cell_type": "code",
   "execution_count": null,
   "id": "27cad6b6",
   "metadata": {},
   "outputs": [],
   "source": [
    "# Seleccionar todos los partidos que jugo el equipo (de \"local\" o \"visitante\")\n",
    "# Completar\n",
    "filtroVisitanteoLocal : pd.Series = mundial[(mundial[\"1\"] == equipo) |(mundial[\"2\"] == equipo)]\n",
    "filtroVisitanteoLocal"
   ]
  },
  {
   "cell_type": "code",
   "execution_count": null,
   "id": "1335869a",
   "metadata": {},
   "outputs": [
    {
     "data": {
      "text/plain": [
       "np.int64(15)"
      ]
     },
     "execution_count": 88,
     "metadata": {},
     "output_type": "execute_result"
    }
   ],
   "source": [
    "# Cuantos goles hizo el equipo en total (obtener los goles metidos de local y sumarlos con los goles metidos de visitante)\n",
    "# Completar\n",
    "goles : int = pd.concat([filtroLocal[\"1_goals\"], filtroVisitante[\"2_goals\"]])\n",
    "goles.sum()"
   ]
  },
  {
   "cell_type": "code",
   "execution_count": 90,
   "id": "669611d7",
   "metadata": {},
   "outputs": [
    {
     "name": "stdout",
     "output_type": "stream",
     "text": [
      "2.142857142857143\n"
     ]
    }
   ],
   "source": [
    "# Cuantos goles hizo el equipo en promedio\n",
    "# Completar\n",
    "golesTotales = goles.sum() / len(filtroVisitanteoLocal)\n",
    "print(golesTotales)"
   ]
  },
  {
   "cell_type": "code",
   "execution_count": null,
   "id": "bd192c5a",
   "metadata": {},
   "outputs": [
    {
     "data": {
      "text/plain": [
       "4"
      ]
     },
     "execution_count": 76,
     "metadata": {},
     "output_type": "execute_result"
    }
   ],
   "source": [
    "# Cuantos partidos gano el equipo\n",
    "# Completar\n",
    "\n",
    "ganados : int = pd.concat([\n",
    "    filtroLocal[(filtroLocal[\"1_goals\"] > filtroLocal[\"2_goals\"])],\n",
    "    filtroVisitante[(filtroVisitante[\"2_goals\"] > filtroVisitante[\"1_goals\"])]\n",
    "])\n",
    "len(ganados)\n",
    "#osea no pero como no hay un dato para saber el ganador sin contar los goles"
   ]
  },
  {
   "cell_type": "code",
   "execution_count": 110,
   "id": "90cbfd29",
   "metadata": {},
   "outputs": [
    {
     "data": {
      "text/plain": [
       "Text(0, 0.5, 'Goles')"
      ]
     },
     "execution_count": 110,
     "metadata": {},
     "output_type": "execute_result"
    },
    {
     "data": {
      "image/png": "[encoded data removed]",
      "text/plain": [
       "<Figure size 640x480 with 1 Axes>"
      ]
     },
     "metadata": {},
     "output_type": "display_data"
    }
   ],
   "source": [
    "# Graficar los goles hechos por el equipo en cada partido\n",
    "fig, ax = plt.subplots()\n",
    "# Completar\n",
    "x = range(1, len(goles) + 1)\n",
    "y = goles\n",
    "\n",
    "ax.bar(x, y, width=0.6, edgecolor=\"black\", linewidth=0.7, color=\"skyblue\")\n",
    "\n",
    "# Etiquetas\n",
    "ax.set_title(\"Goles de Argentina por partido\")\n",
    "ax.set_xlabel(\"Partido\")\n",
    "ax.set_ylabel(\"Goles\")\n"
   ]
  },
  {
   "cell_type": "code",
   "execution_count": 21,
   "id": "e48c974d",
   "metadata": {},
   "outputs": [
    {
     "data": {
      "text/plain": [
       "[('QATAR', 1),\n",
       " ('ENGLAND', 13),\n",
       " ('SENEGAL', 5),\n",
       " ('UNITED STATES', 3),\n",
       " ('ARGENTINA', 15),\n",
       " ('DENMARK', 1),\n",
       " ('MEXICO', 2),\n",
       " ('FRANCE', 16),\n",
       " ('MOROCCO', 6),\n",
       " ('GERMANY', 6),\n",
       " ('SPAIN', 9),\n",
       " ('BELGIUM', 1),\n",
       " ('SWITZERLAND', 5),\n",
       " ('URUGUAY', 2),\n",
       " ('PORTUGAL', 12),\n",
       " ('BRAZIL', 8),\n",
       " ('WALES', 1),\n",
       " ('NETHERLANDS', 10),\n",
       " ('TUNISIA', 1),\n",
       " ('POLAND', 3),\n",
       " ('JAPAN', 5),\n",
       " ('CROATIA', 8),\n",
       " ('CAMEROON', 4),\n",
       " ('KOREA REPUBLIC', 5),\n",
       " ('ECUADOR', 4),\n",
       " ('IRAN', 4),\n",
       " ('AUSTRALIA', 4),\n",
       " ('SAUDI ARABIA', 3),\n",
       " ('CANADA', 2),\n",
       " ('COSTA RICA', 3),\n",
       " ('GHANA', 5),\n",
       " ('SERBIA', 5)]"
      ]
     },
     "execution_count": 21,
     "metadata": {},
     "output_type": "execute_result"
    }
   ],
   "source": [
    "# Contar cuantos goles hizo cada equipo en total en el mundial\n",
    "# Completar\n",
    "goles = []\n",
    "equipos = Selecciones\n",
    "for team in equipos:\n",
    "    goles.append(int(mundial.loc[mundial[\"1\"] == team, \"1_goals\"].sum() + mundial.loc[mundial[\"2\"] == team, \"2_goals\"].sum()))\n",
    "\n",
    "SeleccionesConGolesTotales = list(zip(equipos, goles))\n",
    "SeleccionesConGolesTotales"
   ]
  },
  {
   "cell_type": "code",
   "execution_count": 22,
   "id": "1c66a8a0",
   "metadata": {},
   "outputs": [
    {
     "data": {
      "text/plain": [
       "Text(0, 0.5, 'Goles')"
      ]
     },
     "execution_count": 22,
     "metadata": {},
     "output_type": "execute_result"
    },
    {
     "data": {
      "image/png": "[encoded data removed]",
      "text/plain": [
       "<Figure size 1500x1500 with 1 Axes>"
      ]
     },
     "metadata": {},
     "output_type": "display_data"
    }
   ],
   "source": [
    "# Graficar los goles por equipo en todo el mundial\n",
    "\n",
    "fig, ax = plt.subplots(figsize=(15, 15))\n",
    "# Completar\n",
    "x = [gols for equipos, gols in SeleccionesConGolesTotales]\n",
    "y = [equipos for equipos, gols in SeleccionesConGolesTotales]\n",
    "\n",
    "ax.bar(x, y, edgecolor=\"black\", linewidth=0.7, color=\"skyblue\")\n",
    "\n",
    "# Etiquetas\n",
    "ax.set_title(\"Goles de cada seleccion\")\n",
    "ax.set_xlabel(\"selecciones\")\n",
    "ax.set_ylabel(\"Goles\")"
   ]
  },
  {
   "cell_type": "code",
   "execution_count": 23,
   "id": "1e92117e",
   "metadata": {},
   "outputs": [
    {
     "name": "stdout",
     "output_type": "stream",
     "text": [
      "FRANCE\n"
     ]
    }
   ],
   "source": [
    "# Cual es el equipo que hizo mas goles en el mundial?\n",
    "# Completar\n",
    "Pollo = max(SeleccionesConGolesTotales, key=lambda x: x[1])\n",
    "print(Pollo[0])"
   ]
  },
  {
   "cell_type": "code",
   "execution_count": 29,
   "id": "ad84feb8",
   "metadata": {},
   "outputs": [
    {
     "data": {
      "text/plain": [
       "0     2\n",
       "1     4\n",
       "2     2\n",
       "3     0\n",
       "4     1\n",
       "     ..\n",
       "59    1\n",
       "60    3\n",
       "61    2\n",
       "62    1\n",
       "63    0\n",
       "Length: 64, dtype: int64"
      ]
     },
     "execution_count": 29,
     "metadata": {},
     "output_type": "execute_result"
    }
   ],
   "source": [
    "# Por cada partido, cual fue la diferencia de goles?\n",
    "# Completar\n",
    "goles = abs(mundial[\"1_goals\"] - mundial[\"2_goals\"])\n",
    "goles\n"
   ]
  },
  {
   "cell_type": "code",
   "execution_count": 77,
   "id": "7d95a7db",
   "metadata": {},
   "outputs": [
    {
     "data": {
      "text/plain": [
       "[{'fase': 'Play-off for third place', 'seleccion': 'CROATIA', 'goles': 2},\n",
       " {'fase': 'FaseDeGrupos', 'seleccion': 'ENGLAND', 'goles': 9},\n",
       " {'fase': 'Semi-Final', 'seleccion': 'ARGENTINA', 'goles': 3},\n",
       " {'fase': 'Quarter-final', 'seleccion': 'ARGENTINA', 'goles': 2},\n",
       " {'fase': 'Round of 16', 'seleccion': 'PORTUGAL', 'goles': 6},\n",
       " {'fase': 'Final', 'seleccion': 'ARGENTINA', 'goles': 3}]"
      ]
     },
     "execution_count": 77,
     "metadata": {},
     "output_type": "execute_result"
    }
   ],
   "source": [
    "# En cada fase del mundial, cual fue el equipo que hizo mas goles?\n",
    "# Completar\n",
    "\n",
    "EquiposConMasGolesPorFase = []\n",
    "EquiposPorFase = []\n",
    "for fase in FasesTotales:\n",
    "   for selecciones in Selecciones:\n",
    "      if fase == \"FaseDeGrupos\":\n",
    "         grupos = [\"Group A\", \"Group B\", \"Group C\", \"Group D\"]\n",
    "         goles = int(mundial[(mundial[\"group\"].isin(grupos)) & (mundial[\"1\"] == selecciones)][\"1_goals\"].sum() + mundial[(mundial[\"group\"].isin(grupos)) & (mundial[\"2\"] == selecciones)][\"2_goals\"].sum())\n",
    "      else: \n",
    "         goles = int(mundial[(mundial[\"group\"] == fase) & (mundial[\"1\"] == selecciones)][\"1_goals\"].sum() + mundial[(mundial[\"group\"] == fase) & (mundial[\"2\"] == selecciones)][\"2_goals\"].sum())\n",
    "\n",
    "      EquiposPorFase.append({\n",
    "               \"fase\": fase,\n",
    "               \"seleccion\": selecciones,\n",
    "               \"goles\": goles\n",
    "         })   \n",
    "   EquiposConMasGolesPorFase.append(max([x for x in EquiposPorFase if x[\"fase\"] == fase], key=lambda x: x[\"goles\"]))\n",
    "\n",
    "EquiposConMasGolesPorFase\n"
   ]
  }
 ],
 "metadata": {
  "kernelspec": {
   "display_name": "Python 3",
   "language": "python",
   "name": "python3"
  },
  "language_info": {
   "codemirror_mode": {
    "name": "ipython",
    "version": 3
   },
   "file_extension": ".py",
   "mimetype": "text/x-python",
   "name": "python",
   "nbconvert_exporter": "python",
   "pygments_lexer": "ipython3",
   "version": "3.13.1"
  }
 },
 "nbformat": 4,
 "nbformat_minor": 5
}
